{
 "cells": [
  {
   "cell_type": "code",
   "execution_count": 3,
   "metadata": {},
   "outputs": [],
   "source": [
    "import numpy as np\n",
    "import pandas as pd\n",
    "import os\n",
    "\n",
    "\n",
    "import git\n",
    "from git import RemoteProgress\n",
    "\n",
    "from git import Repo\n",
    "import matplotlib.pyplot as plt\n",
    "import seaborn as sns\n",
    "import re\n",
    "%matplotlib inline\n",
    "\n"
   ]
  },
  {
   "cell_type": "code",
   "execution_count": 4,
   "metadata": {},
   "outputs": [],
   "source": [
    "# Clone repo from GitHub\n",
    "class Progress(RemoteProgress):\n",
    "    def update(self, op_code, cur_count, max_count=None, message=''):\n",
    "        print(self._cur_line)"
   ]
  },
  {
   "cell_type": "code",
   "execution_count": 24,
   "metadata": {
    "scrolled": true
   },
   "outputs": [
    {
     "ename": "GitCommandError",
     "evalue": "Cmd('git') failed due to: exit code(128)\n  cmdline: git clone --progress -v https://github.com/jenkinsci/jenkins repo/jenkins",
     "output_type": "error",
     "traceback": [
      "\u001b[1;31m---------------------------------------------------------------------------\u001b[0m",
      "\u001b[1;31mGitCommandError\u001b[0m                           Traceback (most recent call last)",
      "\u001b[1;32m<ipython-input-24-62939988b0f3>\u001b[0m in \u001b[0;36m<module>\u001b[1;34m\u001b[0m\n\u001b[0;32m     16\u001b[0m \u001b[0mlocal_link\u001b[0m \u001b[1;33m=\u001b[0m \u001b[1;34m\"repo/jenkins\"\u001b[0m\u001b[1;33m\u001b[0m\u001b[1;33m\u001b[0m\u001b[0m\n\u001b[0;32m     17\u001b[0m \u001b[1;33m\u001b[0m\u001b[0m\n\u001b[1;32m---> 18\u001b[1;33m \u001b[0mRepo\u001b[0m\u001b[1;33m.\u001b[0m\u001b[0mclone_from\u001b[0m\u001b[1;33m(\u001b[0m\u001b[0mremote_link\u001b[0m\u001b[1;33m,\u001b[0m \u001b[0mlocal_link\u001b[0m\u001b[1;33m,\u001b[0m \u001b[0mprogress\u001b[0m\u001b[1;33m=\u001b[0m\u001b[0mProgress\u001b[0m\u001b[1;33m(\u001b[0m\u001b[1;33m)\u001b[0m\u001b[1;33m)\u001b[0m\u001b[1;33m\u001b[0m\u001b[1;33m\u001b[0m\u001b[0m\n\u001b[0m\u001b[0;32m     19\u001b[0m \u001b[1;33m\u001b[0m\u001b[0m\n\u001b[0;32m     20\u001b[0m \u001b[1;33m\u001b[0m\u001b[0m\n",
      "\u001b[1;32mC:\\Program Files (x86)\\Anaconda\\lib\\site-packages\\git\\repo\\base.py\u001b[0m in \u001b[0;36mclone_from\u001b[1;34m(cls, url, to_path, progress, env, multi_options, **kwargs)\u001b[0m\n\u001b[0;32m   1019\u001b[0m         \u001b[1;32mif\u001b[0m \u001b[0menv\u001b[0m \u001b[1;32mis\u001b[0m \u001b[1;32mnot\u001b[0m \u001b[1;32mNone\u001b[0m\u001b[1;33m:\u001b[0m\u001b[1;33m\u001b[0m\u001b[1;33m\u001b[0m\u001b[0m\n\u001b[0;32m   1020\u001b[0m             \u001b[0mgit\u001b[0m\u001b[1;33m.\u001b[0m\u001b[0mupdate_environment\u001b[0m\u001b[1;33m(\u001b[0m\u001b[1;33m**\u001b[0m\u001b[0menv\u001b[0m\u001b[1;33m)\u001b[0m\u001b[1;33m\u001b[0m\u001b[1;33m\u001b[0m\u001b[0m\n\u001b[1;32m-> 1021\u001b[1;33m         \u001b[1;32mreturn\u001b[0m \u001b[0mcls\u001b[0m\u001b[1;33m.\u001b[0m\u001b[0m_clone\u001b[0m\u001b[1;33m(\u001b[0m\u001b[0mgit\u001b[0m\u001b[1;33m,\u001b[0m \u001b[0murl\u001b[0m\u001b[1;33m,\u001b[0m \u001b[0mto_path\u001b[0m\u001b[1;33m,\u001b[0m \u001b[0mGitCmdObjectDB\u001b[0m\u001b[1;33m,\u001b[0m \u001b[0mprogress\u001b[0m\u001b[1;33m,\u001b[0m \u001b[0mmulti_options\u001b[0m\u001b[1;33m,\u001b[0m \u001b[1;33m**\u001b[0m\u001b[0mkwargs\u001b[0m\u001b[1;33m)\u001b[0m\u001b[1;33m\u001b[0m\u001b[1;33m\u001b[0m\u001b[0m\n\u001b[0m\u001b[0;32m   1022\u001b[0m \u001b[1;33m\u001b[0m\u001b[0m\n\u001b[0;32m   1023\u001b[0m     \u001b[1;32mdef\u001b[0m \u001b[0marchive\u001b[0m\u001b[1;33m(\u001b[0m\u001b[0mself\u001b[0m\u001b[1;33m,\u001b[0m \u001b[0mostream\u001b[0m\u001b[1;33m,\u001b[0m \u001b[0mtreeish\u001b[0m\u001b[1;33m=\u001b[0m\u001b[1;32mNone\u001b[0m\u001b[1;33m,\u001b[0m \u001b[0mprefix\u001b[0m\u001b[1;33m=\u001b[0m\u001b[1;32mNone\u001b[0m\u001b[1;33m,\u001b[0m \u001b[1;33m**\u001b[0m\u001b[0mkwargs\u001b[0m\u001b[1;33m)\u001b[0m\u001b[1;33m:\u001b[0m\u001b[1;33m\u001b[0m\u001b[1;33m\u001b[0m\u001b[0m\n",
      "\u001b[1;32mC:\\Program Files (x86)\\Anaconda\\lib\\site-packages\\git\\repo\\base.py\u001b[0m in \u001b[0;36m_clone\u001b[1;34m(cls, git, url, path, odb_default_type, progress, multi_options, **kwargs)\u001b[0m\n\u001b[0;32m    961\u001b[0m                          v=True, universal_newlines=True, **add_progress(kwargs, git, progress))\n\u001b[0;32m    962\u001b[0m         \u001b[1;32mif\u001b[0m \u001b[0mprogress\u001b[0m\u001b[1;33m:\u001b[0m\u001b[1;33m\u001b[0m\u001b[1;33m\u001b[0m\u001b[0m\n\u001b[1;32m--> 963\u001b[1;33m             \u001b[0mhandle_process_output\u001b[0m\u001b[1;33m(\u001b[0m\u001b[0mproc\u001b[0m\u001b[1;33m,\u001b[0m \u001b[1;32mNone\u001b[0m\u001b[1;33m,\u001b[0m \u001b[0mprogress\u001b[0m\u001b[1;33m.\u001b[0m\u001b[0mnew_message_handler\u001b[0m\u001b[1;33m(\u001b[0m\u001b[1;33m)\u001b[0m\u001b[1;33m,\u001b[0m \u001b[0mfinalize_process\u001b[0m\u001b[1;33m,\u001b[0m \u001b[0mdecode_streams\u001b[0m\u001b[1;33m=\u001b[0m\u001b[1;32mFalse\u001b[0m\u001b[1;33m)\u001b[0m\u001b[1;33m\u001b[0m\u001b[1;33m\u001b[0m\u001b[0m\n\u001b[0m\u001b[0;32m    964\u001b[0m         \u001b[1;32melse\u001b[0m\u001b[1;33m:\u001b[0m\u001b[1;33m\u001b[0m\u001b[1;33m\u001b[0m\u001b[0m\n\u001b[0;32m    965\u001b[0m             \u001b[1;33m(\u001b[0m\u001b[0mstdout\u001b[0m\u001b[1;33m,\u001b[0m \u001b[0mstderr\u001b[0m\u001b[1;33m)\u001b[0m \u001b[1;33m=\u001b[0m \u001b[0mproc\u001b[0m\u001b[1;33m.\u001b[0m\u001b[0mcommunicate\u001b[0m\u001b[1;33m(\u001b[0m\u001b[1;33m)\u001b[0m\u001b[1;33m\u001b[0m\u001b[1;33m\u001b[0m\u001b[0m\n",
      "\u001b[1;32mC:\\Program Files (x86)\\Anaconda\\lib\\site-packages\\git\\cmd.py\u001b[0m in \u001b[0;36mhandle_process_output\u001b[1;34m(process, stdout_handler, stderr_handler, finalizer, decode_streams)\u001b[0m\n\u001b[0;32m    122\u001b[0m \u001b[1;33m\u001b[0m\u001b[0m\n\u001b[0;32m    123\u001b[0m     \u001b[1;32mif\u001b[0m \u001b[0mfinalizer\u001b[0m\u001b[1;33m:\u001b[0m\u001b[1;33m\u001b[0m\u001b[1;33m\u001b[0m\u001b[0m\n\u001b[1;32m--> 124\u001b[1;33m         \u001b[1;32mreturn\u001b[0m \u001b[0mfinalizer\u001b[0m\u001b[1;33m(\u001b[0m\u001b[0mprocess\u001b[0m\u001b[1;33m)\u001b[0m\u001b[1;33m\u001b[0m\u001b[1;33m\u001b[0m\u001b[0m\n\u001b[0m\u001b[0;32m    125\u001b[0m \u001b[1;33m\u001b[0m\u001b[0m\n\u001b[0;32m    126\u001b[0m \u001b[1;33m\u001b[0m\u001b[0m\n",
      "\u001b[1;32mC:\\Program Files (x86)\\Anaconda\\lib\\site-packages\\git\\util.py\u001b[0m in \u001b[0;36mfinalize_process\u001b[1;34m(proc, **kwargs)\u001b[0m\n\u001b[0;32m    331\u001b[0m     \u001b[1;34m\"\"\"Wait for the process (clone, fetch, pull or push) and handle its errors accordingly\"\"\"\u001b[0m\u001b[1;33m\u001b[0m\u001b[1;33m\u001b[0m\u001b[0m\n\u001b[0;32m    332\u001b[0m     \u001b[1;31m## TODO: No close proc-streams??\u001b[0m\u001b[1;33m\u001b[0m\u001b[1;33m\u001b[0m\u001b[1;33m\u001b[0m\u001b[0m\n\u001b[1;32m--> 333\u001b[1;33m     \u001b[0mproc\u001b[0m\u001b[1;33m.\u001b[0m\u001b[0mwait\u001b[0m\u001b[1;33m(\u001b[0m\u001b[1;33m**\u001b[0m\u001b[0mkwargs\u001b[0m\u001b[1;33m)\u001b[0m\u001b[1;33m\u001b[0m\u001b[1;33m\u001b[0m\u001b[0m\n\u001b[0m\u001b[0;32m    334\u001b[0m \u001b[1;33m\u001b[0m\u001b[0m\n\u001b[0;32m    335\u001b[0m \u001b[1;33m\u001b[0m\u001b[0m\n",
      "\u001b[1;32mC:\\Program Files (x86)\\Anaconda\\lib\\site-packages\\git\\cmd.py\u001b[0m in \u001b[0;36mwait\u001b[1;34m(self, stderr)\u001b[0m\n\u001b[0;32m    410\u001b[0m                 \u001b[0merrstr\u001b[0m \u001b[1;33m=\u001b[0m \u001b[0mread_all_from_possibly_closed_stream\u001b[0m\u001b[1;33m(\u001b[0m\u001b[0mself\u001b[0m\u001b[1;33m.\u001b[0m\u001b[0mproc\u001b[0m\u001b[1;33m.\u001b[0m\u001b[0mstderr\u001b[0m\u001b[1;33m)\u001b[0m\u001b[1;33m\u001b[0m\u001b[1;33m\u001b[0m\u001b[0m\n\u001b[0;32m    411\u001b[0m                 \u001b[0mlog\u001b[0m\u001b[1;33m.\u001b[0m\u001b[0mdebug\u001b[0m\u001b[1;33m(\u001b[0m\u001b[1;34m'AutoInterrupt wait stderr: %r'\u001b[0m \u001b[1;33m%\u001b[0m \u001b[1;33m(\u001b[0m\u001b[0merrstr\u001b[0m\u001b[1;33m,\u001b[0m\u001b[1;33m)\u001b[0m\u001b[1;33m)\u001b[0m\u001b[1;33m\u001b[0m\u001b[1;33m\u001b[0m\u001b[0m\n\u001b[1;32m--> 412\u001b[1;33m                 \u001b[1;32mraise\u001b[0m \u001b[0mGitCommandError\u001b[0m\u001b[1;33m(\u001b[0m\u001b[0mself\u001b[0m\u001b[1;33m.\u001b[0m\u001b[0margs\u001b[0m\u001b[1;33m,\u001b[0m \u001b[0mstatus\u001b[0m\u001b[1;33m,\u001b[0m \u001b[0merrstr\u001b[0m\u001b[1;33m)\u001b[0m\u001b[1;33m\u001b[0m\u001b[1;33m\u001b[0m\u001b[0m\n\u001b[0m\u001b[0;32m    413\u001b[0m             \u001b[1;31m# END status handling\u001b[0m\u001b[1;33m\u001b[0m\u001b[1;33m\u001b[0m\u001b[1;33m\u001b[0m\u001b[0m\n\u001b[0;32m    414\u001b[0m             \u001b[1;32mreturn\u001b[0m \u001b[0mstatus\u001b[0m\u001b[1;33m\u001b[0m\u001b[1;33m\u001b[0m\u001b[0m\n",
      "\u001b[1;31mGitCommandError\u001b[0m: Cmd('git') failed due to: exit code(128)\n  cmdline: git clone --progress -v https://github.com/jenkinsci/jenkins repo/jenkins"
     ]
    }
   ],
   "source": [
    "\n",
    "# remote_link = \"https://github.com/spring-projects/spring-data-commons\"\n",
    "# local_link = \"repo/spring-data-commons\"\n",
    "# Commments\n",
    "# Uncomment to clone\n",
    "# Repo.clone_from(remote_link, local_link, progress=Progress())\n",
    "# remote_link = \"https://github.com/apache/httpcomponents-client\"\n",
    "# local_link = \"repo/httpcomponents-client\"\n",
    "\n",
    "# remote_link = \"https://github.com/apache/lucene-solr\"\n",
    "# local_link = \"repo/lucene-solr\"\n",
    "\n",
    "# remote_link = \"https://github.com/jenkinsci/jenkins\"\n",
    "# local_link = \"repo/jenkins\"\n",
    "\n",
    "\n",
    "Repo.clone_from(remote_link, local_link, progress=Progress())\n",
    "\n",
    "\n",
    "\n",
    "\n",
    "\n"
   ]
  },
  {
   "cell_type": "code",
   "execution_count": 25,
   "metadata": {},
   "outputs": [],
   "source": [
    "\n",
    "repo = Repo(local_link)\n",
    "# fixing_commit = \"a09d6379e6fe95a99b6e3d13c5e37623c35d8eb7\"\n",
    "\n",
    "# fixing_commit = \"e2e564a1a198ed7cf7a6460f8bfb0a7f64b594f1\"\n",
    "\n",
    "# fixing_commit = \"6f5b28be8a578f3ed4f9d3d9122febbe0690842a\"\n",
    "# fixing_commit2=\"9627d1db5dccd6dc9c0c307065628efea621d8e5\"\n",
    "# fixing_commit3=\"a6f4f2dd9ce33a0aa3597e73a5ced0b96302c847\"\n",
    "\n",
    "# fixing_commit = \"a0b00508eeb74d7033dc4100eb382df4e8fa72e7\"\n",
    "# affected_file = \"Functions.java\"\n",
    "# affected_file2 = \"View.java\"\n",
    "# affected_file3 = \"Jenkins.java\"\n",
    "# affected_file4 = \"setIconSize.jelly\"\n",
    "\n",
    "# fixing_commit = \"eeff2c312e9d4caa8c9f27b8f740c7529d00524a\"\n",
    "# affected_file = \"XmlFactory.java\"\n",
    "\n",
    "fixing_commit = \"566a8ddb885f0bef9bc848e60455c0aabbf0c1d3\"\n",
    "affected_file = \"IdStrategy.java\"\n",
    "\n",
    "# affected_file = \"MapDataBinder.java\"\n",
    "\n",
    "# affected_file = \"HttpClientBuilder.java\"\n",
    "\n",
    "# affected_file= \"CHANGES.txt\"\n",
    "# affected_file1 = \"ParseContextConfig.java\"\n",
    "# affected_file2 = \"AbstractEnumField.java\"\n",
    "# affected_file3 = \"FileExchangeRateProvider.java\"\n",
    "# affected_file4 = \"SafeXMLParsing.java\"\n",
    "# affected_file5 = \"TestSafeXMLParsing.java\""
   ]
  },
  {
   "cell_type": "code",
   "execution_count": 17,
   "metadata": {
    "collapsed": true
   },
   "outputs": [
    {
     "ename": "GitCommandError",
     "evalue": "Cmd('git') failed due to: exit code(128)\n  cmdline: git blame -s e2e564a1a198ed7cf7a6460f8bfb0a7f64b594f1^ -- repo\\spring-data-commons\\src\\main\\java\\org\\springframework\\data\\web\\MapDataBinder.java\n  stderr: 'fatal: no such path repo/spring-data-commons/src/main/java/org/springframework/data/web/MapDataBinder.java in e2e564a1a198ed7cf7a6460f8bfb0a7f64b594f1^'",
     "output_type": "error",
     "traceback": [
      "\u001b[1;31m---------------------------------------------------------------------------\u001b[0m",
      "\u001b[1;31mGitCommandError\u001b[0m                           Traceback (most recent call last)",
      "\u001b[1;32m<ipython-input-17-72496b5efbcd>\u001b[0m in \u001b[0;36m<module>\u001b[1;34m\u001b[0m\n\u001b[1;32m----> 1\u001b[1;33m \u001b[0mblame_data\u001b[0m \u001b[1;33m=\u001b[0m \u001b[0mrepo\u001b[0m\u001b[1;33m.\u001b[0m\u001b[0mgit\u001b[0m\u001b[1;33m.\u001b[0m\u001b[0mblame\u001b[0m\u001b[1;33m(\u001b[0m\u001b[1;34m\"-s\"\u001b[0m\u001b[1;33m,\u001b[0m \u001b[0mfixing_commit\u001b[0m \u001b[1;33m+\u001b[0m \u001b[1;34m\"^\"\u001b[0m\u001b[1;33m,\u001b[0m \u001b[1;34m\"--\"\u001b[0m\u001b[1;33m,\u001b[0m \u001b[1;34m\"repo\\spring-data-commons\\src\\main\\java\\org\\springframework\\data\\web\\MapDataBinder.java\"\u001b[0m\u001b[1;33m)\u001b[0m\u001b[1;33m.\u001b[0m\u001b[0msplitlines\u001b[0m\u001b[1;33m(\u001b[0m\u001b[1;33m)\u001b[0m\u001b[1;33m\u001b[0m\u001b[1;33m\u001b[0m\u001b[0m\n\u001b[0m\u001b[0;32m      2\u001b[0m \u001b[1;32mfor\u001b[0m \u001b[0mline\u001b[0m \u001b[1;32min\u001b[0m \u001b[0mblame_data\u001b[0m\u001b[1;33m:\u001b[0m\u001b[1;33m\u001b[0m\u001b[1;33m\u001b[0m\u001b[0m\n\u001b[0;32m      3\u001b[0m     \u001b[0mprint\u001b[0m\u001b[1;33m(\u001b[0m\u001b[0mline\u001b[0m\u001b[1;33m)\u001b[0m\u001b[1;33m\u001b[0m\u001b[1;33m\u001b[0m\u001b[0m\n",
      "\u001b[1;32mC:\\Program Files (x86)\\Anaconda\\lib\\site-packages\\git\\cmd.py\u001b[0m in \u001b[0;36m<lambda>\u001b[1;34m(*args, **kwargs)\u001b[0m\n\u001b[0;32m    543\u001b[0m         \u001b[1;32mif\u001b[0m \u001b[0mname\u001b[0m\u001b[1;33m[\u001b[0m\u001b[1;36m0\u001b[0m\u001b[1;33m]\u001b[0m \u001b[1;33m==\u001b[0m \u001b[1;34m'_'\u001b[0m\u001b[1;33m:\u001b[0m\u001b[1;33m\u001b[0m\u001b[1;33m\u001b[0m\u001b[0m\n\u001b[0;32m    544\u001b[0m             \u001b[1;32mreturn\u001b[0m \u001b[0mLazyMixin\u001b[0m\u001b[1;33m.\u001b[0m\u001b[0m__getattr__\u001b[0m\u001b[1;33m(\u001b[0m\u001b[0mself\u001b[0m\u001b[1;33m,\u001b[0m \u001b[0mname\u001b[0m\u001b[1;33m)\u001b[0m\u001b[1;33m\u001b[0m\u001b[1;33m\u001b[0m\u001b[0m\n\u001b[1;32m--> 545\u001b[1;33m         \u001b[1;32mreturn\u001b[0m \u001b[1;32mlambda\u001b[0m \u001b[1;33m*\u001b[0m\u001b[0margs\u001b[0m\u001b[1;33m,\u001b[0m \u001b[1;33m**\u001b[0m\u001b[0mkwargs\u001b[0m\u001b[1;33m:\u001b[0m \u001b[0mself\u001b[0m\u001b[1;33m.\u001b[0m\u001b[0m_call_process\u001b[0m\u001b[1;33m(\u001b[0m\u001b[0mname\u001b[0m\u001b[1;33m,\u001b[0m \u001b[1;33m*\u001b[0m\u001b[0margs\u001b[0m\u001b[1;33m,\u001b[0m \u001b[1;33m**\u001b[0m\u001b[0mkwargs\u001b[0m\u001b[1;33m)\u001b[0m\u001b[1;33m\u001b[0m\u001b[1;33m\u001b[0m\u001b[0m\n\u001b[0m\u001b[0;32m    546\u001b[0m \u001b[1;33m\u001b[0m\u001b[0m\n\u001b[0;32m    547\u001b[0m     \u001b[1;32mdef\u001b[0m \u001b[0mset_persistent_git_options\u001b[0m\u001b[1;33m(\u001b[0m\u001b[0mself\u001b[0m\u001b[1;33m,\u001b[0m \u001b[1;33m**\u001b[0m\u001b[0mkwargs\u001b[0m\u001b[1;33m)\u001b[0m\u001b[1;33m:\u001b[0m\u001b[1;33m\u001b[0m\u001b[1;33m\u001b[0m\u001b[0m\n",
      "\u001b[1;32mC:\\Program Files (x86)\\Anaconda\\lib\\site-packages\\git\\cmd.py\u001b[0m in \u001b[0;36m_call_process\u001b[1;34m(self, method, *args, **kwargs)\u001b[0m\n\u001b[0;32m   1012\u001b[0m         \u001b[0mcall\u001b[0m\u001b[1;33m.\u001b[0m\u001b[0mextend\u001b[0m\u001b[1;33m(\u001b[0m\u001b[0margs\u001b[0m\u001b[1;33m)\u001b[0m\u001b[1;33m\u001b[0m\u001b[1;33m\u001b[0m\u001b[0m\n\u001b[0;32m   1013\u001b[0m \u001b[1;33m\u001b[0m\u001b[0m\n\u001b[1;32m-> 1014\u001b[1;33m         \u001b[1;32mreturn\u001b[0m \u001b[0mself\u001b[0m\u001b[1;33m.\u001b[0m\u001b[0mexecute\u001b[0m\u001b[1;33m(\u001b[0m\u001b[0mcall\u001b[0m\u001b[1;33m,\u001b[0m \u001b[1;33m**\u001b[0m\u001b[0mexec_kwargs\u001b[0m\u001b[1;33m)\u001b[0m\u001b[1;33m\u001b[0m\u001b[1;33m\u001b[0m\u001b[0m\n\u001b[0m\u001b[0;32m   1015\u001b[0m \u001b[1;33m\u001b[0m\u001b[0m\n\u001b[0;32m   1016\u001b[0m     \u001b[1;32mdef\u001b[0m \u001b[0m_parse_object_header\u001b[0m\u001b[1;33m(\u001b[0m\u001b[0mself\u001b[0m\u001b[1;33m,\u001b[0m \u001b[0mheader_line\u001b[0m\u001b[1;33m)\u001b[0m\u001b[1;33m:\u001b[0m\u001b[1;33m\u001b[0m\u001b[1;33m\u001b[0m\u001b[0m\n",
      "\u001b[1;32mC:\\Program Files (x86)\\Anaconda\\lib\\site-packages\\git\\cmd.py\u001b[0m in \u001b[0;36mexecute\u001b[1;34m(self, command, istream, with_extended_output, with_exceptions, as_process, output_stream, stdout_as_string, kill_after_timeout, with_stdout, universal_newlines, shell, env, max_chunk_size, **subprocess_kwargs)\u001b[0m\n\u001b[0;32m    823\u001b[0m \u001b[1;33m\u001b[0m\u001b[0m\n\u001b[0;32m    824\u001b[0m         \u001b[1;32mif\u001b[0m \u001b[0mwith_exceptions\u001b[0m \u001b[1;32mand\u001b[0m \u001b[0mstatus\u001b[0m \u001b[1;33m!=\u001b[0m \u001b[1;36m0\u001b[0m\u001b[1;33m:\u001b[0m\u001b[1;33m\u001b[0m\u001b[1;33m\u001b[0m\u001b[0m\n\u001b[1;32m--> 825\u001b[1;33m             \u001b[1;32mraise\u001b[0m \u001b[0mGitCommandError\u001b[0m\u001b[1;33m(\u001b[0m\u001b[0mcommand\u001b[0m\u001b[1;33m,\u001b[0m \u001b[0mstatus\u001b[0m\u001b[1;33m,\u001b[0m \u001b[0mstderr_value\u001b[0m\u001b[1;33m,\u001b[0m \u001b[0mstdout_value\u001b[0m\u001b[1;33m)\u001b[0m\u001b[1;33m\u001b[0m\u001b[1;33m\u001b[0m\u001b[0m\n\u001b[0m\u001b[0;32m    826\u001b[0m \u001b[1;33m\u001b[0m\u001b[0m\n\u001b[0;32m    827\u001b[0m         \u001b[1;32mif\u001b[0m \u001b[0misinstance\u001b[0m\u001b[1;33m(\u001b[0m\u001b[0mstdout_value\u001b[0m\u001b[1;33m,\u001b[0m \u001b[0mbytes\u001b[0m\u001b[1;33m)\u001b[0m \u001b[1;32mand\u001b[0m \u001b[0mstdout_as_string\u001b[0m\u001b[1;33m:\u001b[0m  \u001b[1;31m# could also be output_stream\u001b[0m\u001b[1;33m\u001b[0m\u001b[1;33m\u001b[0m\u001b[0m\n",
      "\u001b[1;31mGitCommandError\u001b[0m: Cmd('git') failed due to: exit code(128)\n  cmdline: git blame -s e2e564a1a198ed7cf7a6460f8bfb0a7f64b594f1^ -- repo\\spring-data-commons\\src\\main\\java\\org\\springframework\\data\\web\\MapDataBinder.java\n  stderr: 'fatal: no such path repo/spring-data-commons/src/main/java/org/springframework/data/web/MapDataBinder.java in e2e564a1a198ed7cf7a6460f8bfb0a7f64b594f1^'"
     ]
    }
   ],
   "source": [
    "blame_data = repo.git.blame(\"-s\", fixing_commit + \"^\", \"--\", \"repo\\spring-data-commons\\src\\main\\java\\org\\springframework\\data\\web\\MapDataBinder.java\").splitlines()\n",
    "for line in blame_data:\n",
    "    print(line)"
   ]
  },
  {
   "cell_type": "code",
   "execution_count": 7,
   "metadata": {},
   "outputs": [
    {
     "name": "stdout",
     "output_type": "stream",
     "text": [
      "commit a0b00508eeb74d7033dc4100eb382df4e8fa72e7\n",
      "Author: Jesse Glick <jglick@cloudbees.com>\n",
      "Date:   Fri Feb 7 15:16:41 2014 -0500\n",
      "\n",
      "    [FIXED SECURITY-77] XSS in iconSize cookie.\n"
     ]
    }
   ],
   "source": [
    "\n",
    "# Show info of a commit\n",
    "show_data = repo.git.show(\"-s\", fixing_commit).splitlines()\n",
    "# show_data = repo.git.show(\"--help\",fixing_commit).splitlines()\n",
    "for line in show_data:\n",
    "    print(line)\n",
    "    "
   ]
  },
  {
   "cell_type": "code",
   "execution_count": 8,
   "metadata": {
    "scrolled": true
   },
   "outputs": [
    {
     "name": "stdout",
     "output_type": "stream",
     "text": [
      "commit a0b00508eeb74d7033dc4100eb382df4e8fa72e7\n",
      "Author: Jesse Glick <jglick@cloudbees.com>\n",
      "Date:   Fri Feb 7 15:16:41 2014 -0500\n",
      "\n",
      "    [FIXED SECURITY-77] XSS in iconSize cookie.\n",
      "\n",
      " core/src/main/java/hudson/Functions.java             | 11 +++++++++++\n",
      " core/src/main/java/hudson/model/View.java            |  2 +-\n",
      " core/src/main/java/jenkins/model/Jenkins.java        |  7 ++-----\n",
      " core/src/main/resources/lib/hudson/setIconSize.jelly |  2 +-\n",
      " 4 files changed, 15 insertions(+), 7 deletions(-)\n"
     ]
    }
   ],
   "source": [
    "# Show the more details\n",
    "show_data = repo.git.show(\"--compact-summary\",\"-w\",  fixing_commit).splitlines()\n",
    "for line in show_data:\n",
    "    print(line)"
   ]
  },
  {
   "cell_type": "code",
   "execution_count": 37,
   "metadata": {
    "scrolled": true
   },
   "outputs": [
    {
     "name": "stdout",
     "output_type": "stream",
     "text": [
      "17\n"
     ]
    }
   ],
   "source": [
    "# Show the directories are affected\n",
    "show_data = repo.git.diff(\"--dirstat\",\"-w\",  fixing_commit3,fixing_commit2+\"^\").splitlines()\n",
    "# for line in show_data:\n",
    "#     print(line)\n",
    "print(len(show_data))"
   ]
  },
  {
   "cell_type": "code",
   "execution_count": 42,
   "metadata": {},
   "outputs": [
    {
     "name": "stdout",
     "output_type": "stream",
     "text": [
      "1798\n"
     ]
    }
   ],
   "source": [
    "# Track the diff of fixing commit\n",
    "show_data = repo.git.diff(\"--ignore-blank-lines\", fixing_commit3+\"^\",fixing_commit3).splitlines()\n",
    "a=0;\n",
    "for line in show_data:\n",
    "#     if(re.compile('^-$|^-[^-]').match(line)):\n",
    "    if(re.compile('^\\+$|^\\+[^\\+]').match(line)):\n",
    "        a+=1\n",
    "#         if(re.compile('^[-|\\+]\\s*\\*').match(line)):\n",
    "        if(re.compile('^[-|\\+]\\s*\\*').match(line)):\n",
    "            a-=1\n",
    "print(a)\n",
    "\n",
    "            "
   ]
  },
  {
   "cell_type": "code",
   "execution_count": 43,
   "metadata": {},
   "outputs": [
    {
     "name": "stdout",
     "output_type": "stream",
     "text": [
      "1011\n"
     ]
    }
   ],
   "source": [
    "# Track the diff of fixing commit\n",
    "show_data = repo.git.diff(\"--ignore-blank-lines\", fixing_commit3+\"^\",fixing_commit3).splitlines()\n",
    "a=0;\n",
    "for line in show_data:\n",
    "    if(re.compile('^-$|^-[^-]').match(line)):\n",
    "        a+=1\n",
    "        if(re.compile('^[-|\\+]\\s*\\*').match(line)):\n",
    "            a-=1\n",
    "print(a)\n",
    "\n",
    "            "
   ]
  },
  {
   "cell_type": "code",
   "execution_count": 10,
   "metadata": {},
   "outputs": [
    {
     "name": "stdout",
     "output_type": "stream",
     "text": [
      "core/src/main/java/hudson/Functions.java\n",
      "core/src/main/java/hudson/model/View.java\n",
      "core/src/main/java/jenkins/model/Jenkins.java\n",
      "core/src/main/resources/lib/hudson/setIconSize.jelly\n",
      "10.9\n"
     ]
    }
   ],
   "source": [
    "# Average number of days between current commit to previous commit\n",
    "show_data = repo.git.diff( \"--name-only\",\"-w\",  fixing_commit,fixing_commit+\"^\").splitlines()\n",
    "for line in show_data:\n",
    "    print(line)\n",
    "\n",
    "\n",
    "time_diff = float(0)\n",
    "count = float(0)\n",
    "for line in repo.git.diff(\"--name-only\", fixing_commit, fixing_commit+\"^\").splitlines():\n",
    "    creation = repo.git.log(\"-2\", \"--pretty=%ct\",\"--\", line).splitlines()\n",
    "    count += 1\n",
    "    if(len(creation)==2):\n",
    "        time_diff += ((float(creation[0]) - float(creation[1])) / 86400)\n",
    "\n",
    "avg=time_diff/count\n",
    "print(\"%.1f\"%avg)\n",
    "\n",
    "\n",
    "\n"
   ]
  },
  {
   "cell_type": "code",
   "execution_count": 22,
   "metadata": {},
   "outputs": [
    {
     "name": "stdout",
     "output_type": "stream",
     "text": [
      "1348007236\n",
      "1347911907\n",
      "1163861670\n",
      "1.1\n"
     ]
    }
   ],
   "source": [
    "# Average number of days between VCC to fixing commit\n",
    "\n",
    "time_diff = float(0)\n",
    "count = float(0)\n",
    "\n",
    "value2=repo.git.log(\"-2\", \"--pretty=%ct\",\"eb1a1ffa9432318afba67ada4cf8ba2b5d573bfd\",\"--\", \"core/src/main/java/hudson/model/View.java\").splitlines()\n",
    "time_diff+=((float(value2[0]) - float(value2[1])) / 86400)\n",
    "value3=repo.git.log(\"-2\", \"--pretty=%ct\",\"70c10658148c3eab3b4c4122705e1ed3a12e193d\",\"--\", \"core/src/main/java/jenkins/model/Jenkins.java\").splitlines()\n",
    "time_diff+=((float(value3[0]) - float(value3[1])) / 86400)\n",
    "value4=repo.git.log(\"-2\", \"--pretty=%ct\",\"efbb3fcc84055c854cd12dbe683304a03e88d14c\",\"--\", \"core/src/main/resources/lib/hudson/setIconSize.jelly\").splitlines()\n",
    "time_diff+=((float(value4[0]) - float(value4[1])) / 86400)\n",
    "avg=time_diff/3\n",
    "print(\"%.1f\"%avg)\n",
    "\n",
    "\n",
    "\n"
   ]
  },
  {
   "cell_type": "code",
   "execution_count": 59,
   "metadata": {},
   "outputs": [
    {
     "name": "stdout",
     "output_type": "stream",
     "text": [
      "solr/CHANGES.txt editor num:  73\n",
      "solr/core/src/java/org/apache/solr/schema/CurrencyField.java editor num:  19\n",
      "solr/core/src/java/org/apache/solr/schema/CurrencyFieldType.java editor num:  1\n",
      "solr/core/src/java/org/apache/solr/schema/FileExchangeRateProvider.java editor num:  1\n",
      "solr/core/src/java/org/apache/solr/schema/OpenExchangeRatesOrgProvider.java editor num:  10\n",
      "solr/core/src/java/org/apache/solr/search/ValueSourceParser.java editor num:  23\n",
      "solr/core/src/test-files/solr/collection1/conf/bad-schema-currency-ft-amount-suffix.xml editor num:  1\n",
      "solr/core/src/test-files/solr/collection1/conf/bad-schema-currency-ft-code-suffix.xml editor num:  1\n",
      "solr/core/src/test-files/solr/collection1/conf/bad-schema-currency-ft-oer-norates.xml editor num:  4\n",
      "solr/core/src/test-files/solr/collection1/conf/bad-schema-currencyfieldtype-bogus-amount-suffix.xml editor num:  1\n",
      "solr/core/src/test-files/solr/collection1/conf/bad-schema-currencyfieldtype-bogus-code-suffix.xml editor num:  1\n",
      "solr/core/src/test-files/solr/collection1/conf/bad-schema-currencyfieldtype-dynamic-multivalued.xml editor num:  1\n",
      "solr/core/src/test-files/solr/collection1/conf/bad-schema-currencyfieldtype-ft-bogus-code-in-xml.xml editor num:  1\n",
      "solr/core/src/test-files/solr/collection1/conf/bad-schema-currencyfieldtype-ft-bogus-default-code.xml editor num:  1\n",
      "solr/core/src/test-files/solr/collection1/conf/bad-schema-currencyfieldtype-ft-multivalued.xml editor num:  1\n",
      "solr/core/src/test-files/solr/collection1/conf/bad-schema-currencyfieldtype-ft-oer-norates.xml editor num:  1\n",
      "solr/core/src/test-files/solr/collection1/conf/bad-schema-currencyfieldtype-missing-amount-suffix.xml editor num:  1\n",
      "solr/core/src/test-files/solr/collection1/conf/bad-schema-currencyfieldtype-missing-code-suffix.xml editor num:  1\n",
      "solr/core/src/test-files/solr/collection1/conf/bad-schema-currencyfieldtype-multivalued.xml editor num:  1\n",
      "solr/core/src/test-files/solr/collection1/conf/bad-schema-currencyfieldtype-wrong-amount-ft.xml editor num:  1\n",
      "solr/core/src/test-files/solr/collection1/conf/bad-schema-currencyfieldtype-wrong-code-ft.xml editor num:  1\n",
      "solr/core/src/test-files/solr/collection1/conf/schema.xml editor num:  22\n",
      "solr/core/src/test/org/apache/solr/schema/AbstractCurrencyFieldTest.java editor num:  9\n",
      "solr/core/src/test/org/apache/solr/schema/BadIndexSchemaTest.java editor num:  10\n",
      "solr/core/src/test/org/apache/solr/schema/CurrencyFieldOpenExchangeTest.java editor num:  5\n",
      "solr/core/src/test/org/apache/solr/schema/CurrencyFieldXmlFileTest.java editor num:  6\n",
      "solr/core/src/test/org/apache/solr/schema/OpenExchangeRatesOrgProviderTest.java editor num:  9\n",
      "solr/example/example-DIH/solr/db/conf/managed-schema editor num:  5\n",
      "solr/example/example-DIH/solr/mail/conf/managed-schema editor num:  5\n",
      "solr/example/example-DIH/solr/solr/conf/currency.xml editor num:  2\n",
      "solr/example/example-DIH/solr/solr/conf/managed-schema editor num:  5\n",
      "solr/example/files/conf/managed-schema editor num:  3\n",
      "solr/server/solr/configsets/basic_configs/conf/managed-schema editor num:  9\n",
      "solr/server/solr/configsets/data_driven_schema_configs/conf/currency.xml editor num:  4\n",
      "solr/server/solr/configsets/data_driven_schema_configs/conf/managed-schema editor num:  13\n",
      "solr/server/solr/configsets/sample_techproducts_configs/conf/managed-schema editor num:  9\n",
      "solr/solr-ref-guide/src/field-types-included-with-solr.adoc editor num:  2\n",
      "solr/solr-ref-guide/src/updating-parts-of-documents.adoc editor num:  3\n",
      "solr/solr-ref-guide/src/working-with-currencies-and-exchange-rates.adoc editor num:  2\n",
      "6.9\n"
     ]
    }
   ],
   "source": [
    "\n",
    "#     Show developers involved\n",
    "count=0\n",
    "show_data=repo.git.diff(\"--name-only\", fixing_commit3, fixing_commit3+\"^\").splitlines()\n",
    "for line in show_data:\n",
    "    commit_authors = repo.git.shortlog(\"-s\", \"-n\",fixing_commit3,\"--\",line).splitlines()\n",
    "    print(line,\"editor num: \",len(commit_authors))\n",
    "    count+=len(commit_authors)\n",
    "#     for line2 in commit_authors:\n",
    "#         print(line2)\n",
    "count=count/len(show_data)\n",
    "print(\"%.1f\"%count)\n",
    "# author_commits = []\n",
    "\n",
    "# for commit_author in commit_authors:\n",
    "#     commit, author = commit_author.split(\"\\t\")\n",
    "#     author_commits.append([int(commit), author])\n",
    "    \n",
    "    \n",
    "# df = pd.DataFrame(author_commits, columns=['Commit', 'Author'])\n",
    "\n",
    "# df.head()\n"
   ]
  },
  {
   "cell_type": "code",
   "execution_count": 60,
   "metadata": {},
   "outputs": [
    {
     "data": {
      "text/html": [
       "<div>\n",
       "<style scoped>\n",
       "    .dataframe tbody tr th:only-of-type {\n",
       "        vertical-align: middle;\n",
       "    }\n",
       "\n",
       "    .dataframe tbody tr th {\n",
       "        vertical-align: top;\n",
       "    }\n",
       "\n",
       "    .dataframe thead th {\n",
       "        text-align: right;\n",
       "    }\n",
       "</style>\n",
       "<table border=\"1\" class=\"dataframe\">\n",
       "  <thead>\n",
       "    <tr style=\"text-align: right;\">\n",
       "      <th></th>\n",
       "      <th>Commit</th>\n",
       "      <th>Author</th>\n",
       "    </tr>\n",
       "  </thead>\n",
       "  <tbody>\n",
       "    <tr>\n",
       "      <th>0</th>\n",
       "      <td>3412</td>\n",
       "      <td>Robert Muir &lt;rmuir@apache.org&gt;</td>\n",
       "    </tr>\n",
       "    <tr>\n",
       "      <th>1</th>\n",
       "      <td>2974</td>\n",
       "      <td>Michael McCandless &lt;mikemccand@apache.org&gt;</td>\n",
       "    </tr>\n",
       "    <tr>\n",
       "      <th>2</th>\n",
       "      <td>1833</td>\n",
       "      <td>Yonik Seeley &lt;yonik@apache.org&gt;</td>\n",
       "    </tr>\n",
       "    <tr>\n",
       "      <th>3</th>\n",
       "      <td>1752</td>\n",
       "      <td>Mark Robert Miller &lt;markrmiller@apache.org&gt;</td>\n",
       "    </tr>\n",
       "    <tr>\n",
       "      <th>4</th>\n",
       "      <td>1650</td>\n",
       "      <td>Uwe Schindler &lt;uschindler@apache.org&gt;</td>\n",
       "    </tr>\n",
       "  </tbody>\n",
       "</table>\n",
       "</div>"
      ],
      "text/plain": [
       "   Commit                                       Author\n",
       "0    3412               Robert Muir <rmuir@apache.org>\n",
       "1    2974   Michael McCandless <mikemccand@apache.org>\n",
       "2    1833              Yonik Seeley <yonik@apache.org>\n",
       "3    1752  Mark Robert Miller <markrmiller@apache.org>\n",
       "4    1650        Uwe Schindler <uschindler@apache.org>"
      ]
     },
     "execution_count": 60,
     "metadata": {},
     "output_type": "execute_result"
    }
   ],
   "source": [
    "commit_authors = repo.git.shortlog(\"-sne\", fixing_commit).splitlines()\n",
    "\n",
    "author_commits = []\n",
    "\n",
    "for commit_author in commit_authors:\n",
    "    commit, author = commit_author.split(\"\\t\")\n",
    "    author_commits.append([int(commit), author])\n",
    "df = pd.DataFrame(author_commits, columns=['Commit', 'Author'])\n",
    "df.head()\n",
    "\n"
   ]
  },
  {
   "cell_type": "code",
   "execution_count": 56,
   "metadata": {},
   "outputs": [
    {
     "name": "stdout",
     "output_type": "stream",
     "text": [
      "solr/CHANGES.txt  Number of times: 5170\n",
      "solr/core/src/java/org/apache/solr/schema/CurrencyField.java  Number of times: 51\n",
      "solr/core/src/java/org/apache/solr/schema/CurrencyFieldType.java  Number of times: 6\n",
      "solr/core/src/java/org/apache/solr/schema/FileExchangeRateProvider.java  Number of times: 3\n",
      "solr/core/src/java/org/apache/solr/schema/OpenExchangeRatesOrgProvider.java  Number of times: 21\n",
      "solr/core/src/java/org/apache/solr/search/ValueSourceParser.java  Number of times: 58\n",
      "solr/core/src/test-files/solr/collection1/conf/bad-schema-currency-ft-amount-suffix.xml  Number of times: 1\n",
      "solr/core/src/test-files/solr/collection1/conf/bad-schema-currency-ft-code-suffix.xml  Number of times: 1\n",
      "solr/core/src/test-files/solr/collection1/conf/bad-schema-currency-ft-oer-norates.xml  Number of times: 4\n",
      "solr/core/src/test-files/solr/collection1/conf/bad-schema-currencyfieldtype-bogus-amount-suffix.xml  Number of times: 1\n",
      "solr/core/src/test-files/solr/collection1/conf/bad-schema-currencyfieldtype-bogus-code-suffix.xml  Number of times: 1\n",
      "solr/core/src/test-files/solr/collection1/conf/bad-schema-currencyfieldtype-dynamic-multivalued.xml  Number of times: 1\n",
      "solr/core/src/test-files/solr/collection1/conf/bad-schema-currencyfieldtype-ft-bogus-code-in-xml.xml  Number of times: 1\n",
      "solr/core/src/test-files/solr/collection1/conf/bad-schema-currencyfieldtype-ft-bogus-default-code.xml  Number of times: 1\n",
      "solr/core/src/test-files/solr/collection1/conf/bad-schema-currencyfieldtype-ft-multivalued.xml  Number of times: 1\n",
      "solr/core/src/test-files/solr/collection1/conf/bad-schema-currencyfieldtype-ft-oer-norates.xml  Number of times: 1\n",
      "solr/core/src/test-files/solr/collection1/conf/bad-schema-currencyfieldtype-missing-amount-suffix.xml  Number of times: 1\n",
      "solr/core/src/test-files/solr/collection1/conf/bad-schema-currencyfieldtype-missing-code-suffix.xml  Number of times: 1\n",
      "solr/core/src/test-files/solr/collection1/conf/bad-schema-currencyfieldtype-multivalued.xml  Number of times: 1\n",
      "solr/core/src/test-files/solr/collection1/conf/bad-schema-currencyfieldtype-wrong-amount-ft.xml  Number of times: 1\n",
      "solr/core/src/test-files/solr/collection1/conf/bad-schema-currencyfieldtype-wrong-code-ft.xml  Number of times: 1\n",
      "solr/core/src/test-files/solr/collection1/conf/schema.xml  Number of times: 62\n",
      "solr/core/src/test/org/apache/solr/schema/AbstractCurrencyFieldTest.java  Number of times: 11\n",
      "solr/core/src/test/org/apache/solr/schema/BadIndexSchemaTest.java  Number of times: 29\n",
      "solr/core/src/test/org/apache/solr/schema/CurrencyFieldOpenExchangeTest.java  Number of times: 5\n",
      "solr/core/src/test/org/apache/solr/schema/CurrencyFieldXmlFileTest.java  Number of times: 6\n",
      "solr/core/src/test/org/apache/solr/schema/OpenExchangeRatesOrgProviderTest.java  Number of times: 13\n",
      "solr/example/example-DIH/solr/db/conf/managed-schema  Number of times: 12\n",
      "solr/example/example-DIH/solr/mail/conf/managed-schema  Number of times: 12\n",
      "solr/example/example-DIH/solr/solr/conf/currency.xml  Number of times: 2\n",
      "solr/example/example-DIH/solr/solr/conf/managed-schema  Number of times: 12\n",
      "solr/example/files/conf/managed-schema  Number of times: 12\n",
      "solr/server/solr/configsets/basic_configs/conf/managed-schema  Number of times: 16\n",
      "solr/server/solr/configsets/data_driven_schema_configs/conf/currency.xml  Number of times: 7\n",
      "solr/server/solr/configsets/data_driven_schema_configs/conf/managed-schema  Number of times: 24\n",
      "solr/server/solr/configsets/sample_techproducts_configs/conf/managed-schema  Number of times: 19\n",
      "solr/solr-ref-guide/src/field-types-included-with-solr.adoc  Number of times: 11\n",
      "solr/solr-ref-guide/src/updating-parts-of-documents.adoc  Number of times: 17\n",
      "solr/solr-ref-guide/src/working-with-currencies-and-exchange-rates.adoc  Number of times: 9\n",
      "143.7\n"
     ]
    }
   ],
   "source": [
    "# Average times of file edit\n",
    "count=0\n",
    "\n",
    "\n",
    "# last_commit = blame_data[0].strip().split()[0]\n",
    "show_data=repo.git.diff(\"--name-only\", fixing_commit3, fixing_commit3+\"^\").splitlines()\n",
    "\n",
    "# log_data = repo.git.log(\"--pretty=oneline\", \"--\", affected_file).splitlines()\n",
    "for line in show_data:\n",
    "    log_data = repo.git.log(\"--pretty=oneline\", \"--\", line).splitlines()\n",
    "    print(line,\" Number of times:\", len(log_data))\n",
    "    count+=len(log_data)\n",
    "\n",
    "count=count/len(show_data)\n",
    "print(\"%.1f\"%count)"
   ]
  },
  {
   "cell_type": "code",
   "execution_count": 64,
   "metadata": {},
   "outputs": [
    {
     "name": "stdout",
     "output_type": "stream",
     "text": [
      "887\n"
     ]
    }
   ],
   "source": [
    "count2=0  \n",
    "log_data = repo.git.log(\"--oneline\",  fixing_commit + \"^\").splitlines()\n",
    "for line in log_data:\n",
    "     count2+=1\n",
    "        \n",
    "print(count2)"
   ]
  }
 ],
 "metadata": {
  "kernelspec": {
   "display_name": "Python 3",
   "language": "python",
   "name": "python3"
  },
  "language_info": {
   "codemirror_mode": {
    "name": "ipython",
    "version": 3
   },
   "file_extension": ".py",
   "mimetype": "text/x-python",
   "name": "python",
   "nbconvert_exporter": "python",
   "pygments_lexer": "ipython3",
   "version": "3.7.3"
  }
 },
 "nbformat": 4,
 "nbformat_minor": 2
}
